{
 "cells": [
  {
   "cell_type": "markdown",
   "metadata": {},
   "source": [
    "#### Importando Bibliotecas"
   ]
  },
  {
   "cell_type": "code",
   "execution_count": 1,
   "metadata": {},
   "outputs": [],
   "source": [
    "import duckdb\n",
    "import os\n",
    "\n",
    "from dotenv import load_dotenv"
   ]
  },
  {
   "cell_type": "markdown",
   "metadata": {},
   "source": [
    "#### Primeiros Passos com MotherDuck"
   ]
  },
  {
   "cell_type": "markdown",
   "metadata": {},
   "source": [
    "##### Configurando Token"
   ]
  },
  {
   "cell_type": "code",
   "execution_count": 2,
   "metadata": {},
   "outputs": [],
   "source": [
    "dotenv_path = \"../config/.env\"\n",
    "load_dotenv(dotenv_path)\n",
    "\n",
    "motherduck_token =  os.getenv(\"motherduck_token\")"
   ]
  },
  {
   "cell_type": "markdown",
   "metadata": {},
   "source": [
    "##### Inicializando conexão do DuckDB ao MotherDuck"
   ]
  },
  {
   "cell_type": "code",
   "execution_count": 3,
   "metadata": {},
   "outputs": [],
   "source": [
    "con = duckdb.connect(f\"md:?motherduck_token={motherduck_token}\")"
   ]
  },
  {
   "cell_type": "code",
   "execution_count": 4,
   "metadata": {},
   "outputs": [
    {
     "data": {
      "text/plain": [
       "┌───────────────┐\n",
       "│ database_name │\n",
       "│    varchar    │\n",
       "├───────────────┤\n",
       "│ my_db         │\n",
       "│ sample_data   │\n",
       "│ teste         │\n",
       "└───────────────┘"
      ]
     },
     "execution_count": 4,
     "metadata": {},
     "output_type": "execute_result"
    }
   ],
   "source": [
    "con.sql(\"SHOW DATABASES\")"
   ]
  },
  {
   "cell_type": "markdown",
   "metadata": {},
   "source": [
    "##### Lendo o CSV"
   ]
  },
  {
   "cell_type": "code",
   "execution_count": 5,
   "metadata": {},
   "outputs": [
    {
     "data": {
      "text/plain": [
       "┌────────────────┬─────────────────────┬──────────────────────┬───┬─────────────────┬────────────────┬─────────────┐\n",
       "│ DataAssinatura │ DataTerminoOriginal │ DataTterminoAposAd…  │ … │ ValorAtualizado │ ValorEmpenhado │  ValorPago  │\n",
       "│      date      │        date         │         date         │   │     double      │     double     │   double    │\n",
       "├────────────────┼─────────────────────┼──────────────────────┼───┼─────────────────┼────────────────┼─────────────┤\n",
       "│ 2017-12-14     │ 2018-12-14          │ 2024-12-14           │ … │      1369848.55 │     1211677.61 │  1192042.88 │\n",
       "│ 2017-11-10     │ 2018-11-10          │ 2024-11-11           │ … │       228445.44 │      207802.58 │   207882.78 │\n",
       "│ 2017-11-01     │ 2018-10-31          │ 2024-10-31           │ … │        216720.0 │       190174.0 │   190131.24 │\n",
       "│ 2017-11-28     │ 2018-11-30          │ 2024-11-30           │ … │         94752.5 │       80642.03 │    80642.03 │\n",
       "│ 2017-11-21     │ 2019-05-21          │ 2024-11-20           │ … │     12255057.71 │    13559406.09 │ 11036104.79 │\n",
       "├────────────────┴─────────────────────┴──────────────────────┴───┴─────────────────┴────────────────┴─────────────┤\n",
       "│ 5 rows                                                                                      23 columns (6 shown) │\n",
       "└──────────────────────────────────────────────────────────────────────────────────────────────────────────────────┘"
      ]
     },
     "execution_count": 5,
     "metadata": {},
     "output_type": "execute_result"
    }
   ],
   "source": [
    "# usando AUTO_DETECT=TRUE para inferir o schema automático\n",
    "con.sql(\"SELECT * FROM read_csv('../data/input/contratos_202404.csv', AUTO_DETECT=TRUE) LIMIT 5\")"
   ]
  },
  {
   "cell_type": "markdown",
   "metadata": {},
   "source": [
    "##### Inserindo o CSV em uma tabela temporária chamada \"stg\""
   ]
  },
  {
   "cell_type": "code",
   "execution_count": 6,
   "metadata": {},
   "outputs": [],
   "source": [
    "con.sql(\"CREATE OR REPLACE TEMP TABLE stg AS SELECT * FROM read_csv('../data/input/contratos_202404.csv', AUTO_DETECT=TRUE)\")"
   ]
  },
  {
   "cell_type": "code",
   "execution_count": 7,
   "metadata": {},
   "outputs": [
    {
     "data": {
      "text/plain": [
       "┌────────────────┬─────────────────────┬──────────────────────┬───┬─────────────────┬────────────────┬─────────────┐\n",
       "│ DataAssinatura │ DataTerminoOriginal │ DataTterminoAposAd…  │ … │ ValorAtualizado │ ValorEmpenhado │  ValorPago  │\n",
       "│      date      │        date         │         date         │   │     double      │     double     │   double    │\n",
       "├────────────────┼─────────────────────┼──────────────────────┼───┼─────────────────┼────────────────┼─────────────┤\n",
       "│ 2017-12-14     │ 2018-12-14          │ 2024-12-14           │ … │      1369848.55 │     1211677.61 │  1192042.88 │\n",
       "│ 2017-11-10     │ 2018-11-10          │ 2024-11-11           │ … │       228445.44 │      207802.58 │   207882.78 │\n",
       "│ 2017-11-01     │ 2018-10-31          │ 2024-10-31           │ … │        216720.0 │       190174.0 │   190131.24 │\n",
       "│ 2017-11-28     │ 2018-11-30          │ 2024-11-30           │ … │         94752.5 │       80642.03 │    80642.03 │\n",
       "│ 2017-11-21     │ 2019-05-21          │ 2024-11-20           │ … │     12255057.71 │    13559406.09 │ 11036104.79 │\n",
       "│ 2017-11-20     │ 2018-11-20          │ 2024-11-20           │ … │        408095.1 │      370655.98 │    365230.3 │\n",
       "│ 2017-10-16     │ 2018-10-16          │ 2024-10-16           │ … │       746207.27 │      678212.21 │    668427.6 │\n",
       "│ 2017-09-11     │ 2027-09-10          │ 2027-09-10           │ … │          6000.0 │         6000.0 │      6000.0 │\n",
       "│ 2017-09-01     │ 2018-08-31          │ 2024-08-31           │ … │        358680.0 │       323450.0 │   323024.62 │\n",
       "│ 2017-09-21     │ 2018-09-21          │ 2024-09-21           │ … │      1256908.55 │     1177219.37 │  1159886.11 │\n",
       "│     ·          │     ·               │     ·                │ · │             ·   │            ·   │         ·   │\n",
       "│     ·          │     ·               │     ·                │ · │             ·   │            ·   │         ·   │\n",
       "│     ·          │     ·               │     ·                │ · │             ·   │            ·   │         ·   │\n",
       "│ 2023-09-05     │ 2024-09-18          │ 2024-09-18           │ … │           500.0 │          500.0 │       500.0 │\n",
       "│ 2023-08-16     │ 2024-09-18          │ 2024-09-18           │ … │         26290.0 │        26290.0 │      2090.0 │\n",
       "│ 2023-09-05     │ 2024-08-29          │ 2024-08-29           │ … │           170.0 │          170.0 │         0.0 │\n",
       "│ 2023-09-05     │ 2024-09-18          │ 2024-09-18           │ … │         21720.0 │        21720.0 │         0.0 │\n",
       "│ 2023-08-30     │ 2024-08-28          │ 2024-08-28           │ … │         43185.0 │        43185.0 │         0.0 │\n",
       "│ 2023-09-01     │ 2024-09-18          │ 2024-09-18           │ … │          5300.0 │         5300.0 │      5300.0 │\n",
       "│ 2023-08-29     │ 2024-09-18          │ 2024-09-18           │ … │          2399.0 │         2399.0 │         0.0 │\n",
       "│ 2023-08-28     │ 2024-04-06          │ 2024-04-06           │ … │          1896.0 │         1896.0 │      1896.0 │\n",
       "│ 2023-09-04     │ 2024-09-02          │ 2024-09-02           │ … │          2684.6 │         2684.6 │      1342.3 │\n",
       "│ 2023-08-29     │ 2024-09-18          │ 2024-09-18           │ … │           476.0 │          476.0 │       238.0 │\n",
       "├────────────────┴─────────────────────┴──────────────────────┴───┴─────────────────┴────────────────┴─────────────┤\n",
       "│ ? rows (>9999 rows, 20 shown)                                                               23 columns (6 shown) │\n",
       "└──────────────────────────────────────────────────────────────────────────────────────────────────────────────────┘"
      ]
     },
     "execution_count": 7,
     "metadata": {},
     "output_type": "execute_result"
    }
   ],
   "source": [
    "con.sql(\"SELECT * FROM temp.stg\")"
   ]
  },
  {
   "cell_type": "markdown",
   "metadata": {},
   "source": [
    "##### Salvando os dados no MotherDuck"
   ]
  },
  {
   "cell_type": "code",
   "execution_count": 8,
   "metadata": {},
   "outputs": [],
   "source": [
    "# criando o banco de dados\n",
    "con.sql(\"CREATE DATABASE data_processing\")"
   ]
  },
  {
   "cell_type": "code",
   "execution_count": 9,
   "metadata": {},
   "outputs": [],
   "source": [
    "# criando um schema\n",
    "con.sql(\"CREATE SCHEMA data_processing.dbo\")"
   ]
  },
  {
   "cell_type": "code",
   "execution_count": 10,
   "metadata": {},
   "outputs": [],
   "source": [
    "# criando a tabela automaticamente e inserindo os dados\n",
    "# assim como a stg, estamos inferindo o schema da tabela automaticamente\n",
    "con.sql(\"CREATE TABLE data_processing.dbo.contratos AS SELECT * FROM temp.stg\")"
   ]
  },
  {
   "cell_type": "markdown",
   "metadata": {},
   "source": [
    "##### Contando as Linhas"
   ]
  },
  {
   "cell_type": "code",
   "execution_count": 11,
   "metadata": {},
   "outputs": [
    {
     "data": {
      "text/plain": [
       "┌──────────────┐\n",
       "│ count_star() │\n",
       "│    int64     │\n",
       "├──────────────┤\n",
       "│        20543 │\n",
       "└──────────────┘"
      ]
     },
     "execution_count": 11,
     "metadata": {},
     "output_type": "execute_result"
    }
   ],
   "source": [
    "con.sql(\"SELECT COUNT(*) FROM data_processing.dbo.contratos\")"
   ]
  },
  {
   "cell_type": "markdown",
   "metadata": {},
   "source": [
    "##### Inserindo mais dados"
   ]
  },
  {
   "cell_type": "code",
   "execution_count": 12,
   "metadata": {},
   "outputs": [],
   "source": [
    "# inserindo a stg novamente\n",
    "con.sql(\"INSERT INTO data_processing.dbo.contratos SELECT * FROM temp.stg\")"
   ]
  },
  {
   "cell_type": "code",
   "execution_count": 13,
   "metadata": {},
   "outputs": [
    {
     "data": {
      "text/plain": [
       "┌──────────────┐\n",
       "│ count_star() │\n",
       "│    int64     │\n",
       "├──────────────┤\n",
       "│        41086 │\n",
       "└──────────────┘"
      ]
     },
     "execution_count": 13,
     "metadata": {},
     "output_type": "execute_result"
    }
   ],
   "source": [
    "# contando novamente\n",
    "con.sql(\"SELECT COUNT(*) FROM data_processing.dbo.contratos\")"
   ]
  },
  {
   "cell_type": "markdown",
   "metadata": {},
   "source": [
    "##### Criando uma View"
   ]
  },
  {
   "cell_type": "code",
   "execution_count": 16,
   "metadata": {},
   "outputs": [],
   "source": [
    "con.sql(\"CREATE VIEW data_processing.dbo.view_rescisao AS SELECT * FROM data_processing.dbo.contratos WHERE DataRescisao IS NOT NULL\")"
   ]
  },
  {
   "cell_type": "markdown",
   "metadata": {},
   "source": [
    "##### Selecionando a View"
   ]
  },
  {
   "cell_type": "code",
   "execution_count": 17,
   "metadata": {},
   "outputs": [
    {
     "data": {
      "text/plain": [
       "┌────────────────┬─────────────────────┬──────────────────────┬───┬─────────────────┬────────────────┬───────────┐\n",
       "│ DataAssinatura │ DataTerminoOriginal │ DataTterminoAposAd…  │ … │ ValorAtualizado │ ValorEmpenhado │ ValorPago │\n",
       "│      date      │        date         │         date         │   │     double      │     double     │  double   │\n",
       "├────────────────┼─────────────────────┼──────────────────────┼───┼─────────────────┼────────────────┼───────────┤\n",
       "│ 2023-08-25     │ 2024-09-29          │ 2024-04-02           │ … │         10800.0 │            0.0 │       0.0 │\n",
       "│ 2023-10-11     │ 2024-10-09          │ 2024-10-09           │ … │         12223.0 │        12223.0 │   12223.0 │\n",
       "│ 2023-08-25     │ 2024-09-29          │ 2024-04-02           │ … │         10800.0 │            0.0 │       0.0 │\n",
       "│ 2023-10-11     │ 2024-10-09          │ 2024-10-09           │ … │         12223.0 │        12223.0 │   12223.0 │\n",
       "├────────────────┴─────────────────────┴──────────────────────┴───┴─────────────────┴────────────────┴───────────┤\n",
       "│ 4 rows                                                                                    23 columns (6 shown) │\n",
       "└────────────────────────────────────────────────────────────────────────────────────────────────────────────────┘"
      ]
     },
     "execution_count": 17,
     "metadata": {},
     "output_type": "execute_result"
    }
   ],
   "source": [
    "con.sql(\"SELECT * FROM data_processing.dbo.view_rescisao\")"
   ]
  },
  {
   "cell_type": "markdown",
   "metadata": {},
   "source": [
    "##### Usando CTE"
   ]
  },
  {
   "cell_type": "code",
   "execution_count": 20,
   "metadata": {},
   "outputs": [
    {
     "data": {
      "text/plain": [
       "┌────────────────┬─────────────────────┬──────────────────────┬───┬─────────────────┬────────────────┬───────────┐\n",
       "│ DataAssinatura │ DataTerminoOriginal │ DataTterminoAposAd…  │ … │ ValorAtualizado │ ValorEmpenhado │ ValorPago │\n",
       "│      date      │        date         │         date         │   │     double      │     double     │  double   │\n",
       "├────────────────┼─────────────────────┼──────────────────────┼───┼─────────────────┼────────────────┼───────────┤\n",
       "│ 2023-08-25     │ 2024-09-29          │ 2024-04-02           │ … │         10800.0 │            0.0 │       0.0 │\n",
       "│ 2023-08-25     │ 2024-09-29          │ 2024-04-02           │ … │         10800.0 │            0.0 │       0.0 │\n",
       "├────────────────┴─────────────────────┴──────────────────────┴───┴─────────────────┴────────────────┴───────────┤\n",
       "│ 2 rows                                                                                    23 columns (6 shown) │\n",
       "└────────────────────────────────────────────────────────────────────────────────────────────────────────────────┘"
      ]
     },
     "execution_count": 20,
     "metadata": {},
     "output_type": "execute_result"
    }
   ],
   "source": [
    "con.sql(\"WITH cteTeste AS (SELECT * FROM data_processing.dbo.view_rescisao) SELECT * FROM cteTeste WHERE DataAssinatura = '2023-08-25'\")"
   ]
  },
  {
   "cell_type": "markdown",
   "metadata": {},
   "source": [
    "#### Continua....."
   ]
  }
 ],
 "metadata": {
  "kernelspec": {
   "display_name": ".venv",
   "language": "python",
   "name": "python3"
  },
  "language_info": {
   "codemirror_mode": {
    "name": "ipython",
    "version": 3
   },
   "file_extension": ".py",
   "mimetype": "text/x-python",
   "name": "python",
   "nbconvert_exporter": "python",
   "pygments_lexer": "ipython3",
   "version": "3.11.5"
  }
 },
 "nbformat": 4,
 "nbformat_minor": 2
}
